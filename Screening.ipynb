{
  "nbformat": 4,
  "nbformat_minor": 0,
  "metadata": {
    "colab": {
      "provenance": []
    },
    "kernelspec": {
      "name": "python3",
      "display_name": "Python 3"
    },
    "language_info": {
      "name": "python"
    }
  },
  "cells": [
    {
      "cell_type": "code",
      "execution_count": 1,
      "metadata": {
        "id": "1c4ohj0NZFBP"
      },
      "outputs": [],
      "source": [
        "# Defining candidates interview responses and mock evaluation scores\n",
        "candidates = [\n",
        "    {\n",
        "        \"name\": \"John Smith\",\n",
        "        \"technical_expertise\": 38,  # out of 40\n",
        "        \"problem_solving\": 28,      # out of 30\n",
        "        \"communication\": 18,        # out of 20\n",
        "        \"cultural_fit\": 9           # out of 10\n",
        "    },\n",
        "    {\n",
        "        \"name\": \"Maria Rodriguez\",\n",
        "        \"technical_expertise\": 36,\n",
        "        \"problem_solving\": 29,\n",
        "        \"communication\": 17,\n",
        "        \"cultural_fit\": 9\n",
        "    },\n",
        "    {\n",
        "        \"name\": \"Daniel Lee\",\n",
        "        \"technical_expertise\": 39,\n",
        "        \"problem_solving\": 27,\n",
        "        \"communication\": 15,\n",
        "        \"cultural_fit\": 7\n",
        "    },\n",
        "    {\n",
        "        \"name\": \"Sarah Ahmed\",\n",
        "        \"technical_expertise\": 34,\n",
        "        \"problem_solving\": 27,\n",
        "        \"communication\": 18,\n",
        "        \"cultural_fit\": 10\n",
        "    },\n",
        "    {\n",
        "        \"name\": \"Michael Patel\",\n",
        "        \"technical_expertise\": 32,\n",
        "        \"problem_solving\": 25,\n",
        "        \"communication\": 17,\n",
        "        \"cultural_fit\": 9\n",
        "    }\n",
        "]"
      ]
    },
    {
      "cell_type": "code",
      "source": [
        "\n",
        "# Weights for each criterion\n",
        "weights = {\n",
        "    \"technical_expertise\": 0.40,\n",
        "    \"problem_solving\": 0.30,\n",
        "    \"communication\": 0.20,\n",
        "    \"cultural_fit\": 0.10\n",
        "}"
      ],
      "metadata": {
        "id": "9CykpfwlZzQU"
      },
      "execution_count": 2,
      "outputs": []
    },
    {
      "cell_type": "code",
      "source": [
        "\n",
        "# Function to compute the total score for each candidate\n",
        "def compute_score(candidate, weights):\n",
        "    score = (\n",
        "        candidate[\"technical_expertise\"] * weights[\"technical_expertise\"] +\n",
        "        candidate[\"problem_solving\"] * weights[\"problem_solving\"] +\n",
        "        candidate[\"communication\"] * weights[\"communication\"] +\n",
        "        candidate[\"cultural_fit\"] * weights[\"cultural_fit\"]\n",
        "    )\n",
        "    return score\n"
      ],
      "metadata": {
        "id": "JYu9MEAXaGyL"
      },
      "execution_count": 3,
      "outputs": []
    },
    {
      "cell_type": "code",
      "source": [
        "# Evaluating each candidate and compute their total score\n",
        "for candidate in candidates:\n",
        "    candidate[\"total_score\"] = compute_score(candidate, weights)"
      ],
      "metadata": {
        "id": "FkEigqnOaOps"
      },
      "execution_count": 4,
      "outputs": []
    },
    {
      "cell_type": "code",
      "source": [
        "# Ranking candidates by their total score\n",
        "ranked_candidates = sorted(candidates, key=lambda x: x[\"total_score\"], reverse=True)"
      ],
      "metadata": {
        "id": "BT7ON2qpaixV"
      },
      "execution_count": 5,
      "outputs": []
    },
    {
      "cell_type": "code",
      "source": [
        "# Printing the ranking of candidates\n",
        "print(\"Ranked Candidates:\")\n",
        "for rank, candidate in enumerate(ranked_candidates, start=1):\n",
        "    print(f\"{rank}. {candidate['name']} - Total Score: {candidate['total_score']:.2f}\")\n"
      ],
      "metadata": {
        "colab": {
          "base_uri": "https://localhost:8080/"
        },
        "id": "ZjuJ2iifavtN",
        "outputId": "17dddf6d-3d7d-4f8a-a889-d9d99e688316"
      },
      "execution_count": 6,
      "outputs": [
        {
          "output_type": "stream",
          "name": "stdout",
          "text": [
            "Ranked Candidates:\n",
            "1. John Smith - Total Score: 28.10\n",
            "2. Daniel Lee - Total Score: 27.40\n",
            "3. Maria Rodriguez - Total Score: 27.40\n",
            "4. Sarah Ahmed - Total Score: 26.30\n",
            "5. Michael Patel - Total Score: 24.60\n"
          ]
        }
      ]
    },
    {
      "cell_type": "code",
      "source": [
        "# Output the ranking to a list for further use\n",
        "rankings = [{\"Rank\": rank + 1, \"Name\": candidate['name'], \"Score\": candidate['total_score']} for rank, candidate in enumerate(ranked_candidates)]"
      ],
      "metadata": {
        "id": "1ENKW88hbIuJ"
      },
      "execution_count": 7,
      "outputs": []
    },
    {
      "cell_type": "code",
      "source": [
        "rankings"
      ],
      "metadata": {
        "colab": {
          "base_uri": "https://localhost:8080/"
        },
        "id": "Kl8Tzd4EbRc_",
        "outputId": "a896d517-bf0c-428b-a6d1-6f1623a06de9"
      },
      "execution_count": 8,
      "outputs": [
        {
          "output_type": "execute_result",
          "data": {
            "text/plain": [
              "[{'Rank': 1, 'Name': 'John Smith', 'Score': 28.1},\n",
              " {'Rank': 2, 'Name': 'Daniel Lee', 'Score': 27.400000000000002},\n",
              " {'Rank': 3, 'Name': 'Maria Rodriguez', 'Score': 27.4},\n",
              " {'Rank': 4, 'Name': 'Sarah Ahmed', 'Score': 26.300000000000004},\n",
              " {'Rank': 5, 'Name': 'Michael Patel', 'Score': 24.6}]"
            ]
          },
          "metadata": {},
          "execution_count": 8
        }
      ]
    },
    {
      "cell_type": "code",
      "source": [
        "import pandas as pd\n",
        "\n",
        "# Creating a DataFrame for ranked candidates\n",
        "df = pd.DataFrame(rankings)\n",
        "\n",
        "# Saving to Excel\n",
        "df.to_excel(\"ranked_candidates.xlsx\", index=False)"
      ],
      "metadata": {
        "id": "YdQJBBAUbStv"
      },
      "execution_count": 9,
      "outputs": []
    }
  ]
}